{
  "nbformat": 4,
  "nbformat_minor": 0,
  "metadata": {
    "accelerator": "GPU",
    "colab": {
      "name": "NLP_Week4_Exercise_Shakespeare_Question.ipynb",
      "provenance": []
    },
    "kernelspec": {
      "display_name": "Python 3",
      "name": "python3"
    }
  },
  "cells": [
    {
      "cell_type": "code",
      "metadata": {
        "id": "zX4Kg8DUTKWO"
      },
      "source": [
        "#@title Licensed under the Apache License, Version 2.0 (the \"License\");\n",
        "# you may not use this file except in compliance with the License.\n",
        "# You may obtain a copy of the License at\n",
        "#\n",
        "# https://www.apache.org/licenses/LICENSE-2.0\n",
        "#\n",
        "# Unless required by applicable law or agreed to in writing, software\n",
        "# distributed under the License is distributed on an \"AS IS\" BASIS,\n",
        "# WITHOUT WARRANTIES OR CONDITIONS OF ANY KIND, either express or implied.\n",
        "# See the License for the specific language governing permissions and\n",
        "# limitations under the License."
      ],
      "execution_count": 1,
      "outputs": []
    },
    {
      "cell_type": "code",
      "metadata": {
        "id": "BOwsuGQQY9OL"
      },
      "source": [
        "from tensorflow.keras.preprocessing.sequence import pad_sequences\n",
        "from tensorflow.keras.layers import Embedding, LSTM, Dense, Dropout, Bidirectional\n",
        "from tensorflow.keras.preprocessing.text import Tokenizer\n",
        "from tensorflow.keras.models import Sequential\n",
        "from tensorflow.keras.optimizers import Adam\n",
        "### YOUR CODE HERE\n",
        "# Figure out how to import regularizers\n",
        "from tensorflow.keras.regularizers import Regularizer\n",
        "###\n",
        "import tensorflow.keras.utils as ku \n",
        "import numpy as np "
      ],
      "execution_count": 2,
      "outputs": []
    },
    {
      "cell_type": "code",
      "metadata": {
        "colab": {
          "base_uri": "https://localhost:8080/"
        },
        "id": "PRnDnCW-Z7qv",
        "outputId": "540f7cd0-f174-49ba-8028-216110f0962f"
      },
      "source": [
        "tokenizer = Tokenizer()\n",
        "!wget --no-check-certificate \\\n",
        "    https://storage.googleapis.com/laurencemoroney-blog.appspot.com/sonnets.txt \\\n",
        "    -O /tmp/sonnets.txt\n",
        "data = open('/tmp/sonnets.txt').read()\n",
        "\n",
        "corpus = data.lower().split(\"\\n\")\n",
        "\n",
        "\n",
        "tokenizer.fit_on_texts(corpus)\n",
        "total_words = len(tokenizer.word_index) + 1\n",
        "\n",
        "# create input sequences using list of tokens\n",
        "input_sequences = []\n",
        "for line in corpus:\n",
        "\ttoken_list = tokenizer.texts_to_sequences([line])[0]\n",
        "\tfor i in range(1, len(token_list)):\n",
        "\t\tn_gram_sequence = token_list[:i+1]\n",
        "\t\tinput_sequences.append(n_gram_sequence)\n",
        "\n",
        "\n",
        "# pad sequences \n",
        "max_sequence_len = max([len(x) for x in input_sequences])\n",
        "input_sequences = np.array(pad_sequences(input_sequences, maxlen=max_sequence_len, padding='pre'))\n",
        "\n",
        "# create predictors and label\n",
        "predictors, label = input_sequences[:,:-1],input_sequences[:,-1]\n",
        "\n",
        "label = ku.to_categorical(label, num_classes=total_words)"
      ],
      "execution_count": 3,
      "outputs": [
        {
          "output_type": "stream",
          "text": [
            "--2021-08-16 18:05:02--  https://storage.googleapis.com/laurencemoroney-blog.appspot.com/sonnets.txt\n",
            "Resolving storage.googleapis.com (storage.googleapis.com)... 74.125.142.128, 74.125.195.128, 2607:f8b0:400e:c06::80, ...\n",
            "Connecting to storage.googleapis.com (storage.googleapis.com)|74.125.142.128|:443... connected.\n",
            "HTTP request sent, awaiting response... 200 OK\n",
            "Length: 93578 (91K) [text/plain]\n",
            "Saving to: ‘/tmp/sonnets.txt’\n",
            "\n",
            "\r/tmp/sonnets.txt      0%[                    ]       0  --.-KB/s               \r/tmp/sonnets.txt    100%[===================>]  91.38K  --.-KB/s    in 0.001s  \n",
            "\n",
            "2021-08-16 18:05:02 (135 MB/s) - ‘/tmp/sonnets.txt’ saved [93578/93578]\n",
            "\n"
          ],
          "name": "stdout"
        }
      ]
    },
    {
      "cell_type": "code",
      "metadata": {
        "colab": {
          "base_uri": "https://localhost:8080/"
        },
        "id": "w9vH8Y59ajYL",
        "outputId": "1b4216d0-70ec-4c8c-a23f-dabe82d0ab92"
      },
      "source": [
        "model = Sequential()\n",
        "model.add(Embedding(total_words, 100, input_length=max_sequence_len-1))\n",
        "model.add(Bidirectional(LSTM(150, return_sequences=True)))\n",
        "model.add(Dropout(0.2))\n",
        "model.add(LSTM(100))\n",
        "model.add(Dense(total_words/2, activation='relu'))\n",
        "model.add(Dense(total_words, activation='softmax'))\n",
        "# Pick an optimizer\n",
        "model.compile(loss='categorical_crossentropy', optimizer='adam', metrics=['accuracy'])\n",
        "print(model.summary())\n"
      ],
      "execution_count": 8,
      "outputs": [
        {
          "output_type": "stream",
          "text": [
            "Model: \"sequential_4\"\n",
            "_________________________________________________________________\n",
            "Layer (type)                 Output Shape              Param #   \n",
            "=================================================================\n",
            "embedding_4 (Embedding)      (None, 10, 100)           321100    \n",
            "_________________________________________________________________\n",
            "bidirectional_4 (Bidirection (None, 10, 300)           301200    \n",
            "_________________________________________________________________\n",
            "dropout_4 (Dropout)          (None, 10, 300)           0         \n",
            "_________________________________________________________________\n",
            "lstm_9 (LSTM)                (None, 100)               160400    \n",
            "_________________________________________________________________\n",
            "dense_8 (Dense)              (None, 1605)              162105    \n",
            "_________________________________________________________________\n",
            "dense_9 (Dense)              (None, 3211)              5156866   \n",
            "=================================================================\n",
            "Total params: 6,101,671\n",
            "Trainable params: 6,101,671\n",
            "Non-trainable params: 0\n",
            "_________________________________________________________________\n",
            "None\n"
          ],
          "name": "stdout"
        }
      ]
    },
    {
      "cell_type": "code",
      "metadata": {
        "colab": {
          "base_uri": "https://localhost:8080/"
        },
        "id": "AIg2f1HBxqof",
        "outputId": "44b68506-b59a-44af-8df1-0770894cb76c"
      },
      "source": [
        " history = model.fit(predictors, label, epochs=100, verbose=1)"
      ],
      "execution_count": 9,
      "outputs": [
        {
          "output_type": "stream",
          "text": [
            "Epoch 1/100\n",
            "484/484 [==============================] - 15s 12ms/step - loss: 6.7861 - accuracy: 0.0254\n",
            "Epoch 2/100\n",
            "484/484 [==============================] - 6s 11ms/step - loss: 6.4083 - accuracy: 0.0334\n",
            "Epoch 3/100\n",
            "484/484 [==============================] - 6s 12ms/step - loss: 6.2156 - accuracy: 0.0358\n",
            "Epoch 4/100\n",
            "484/484 [==============================] - 6s 11ms/step - loss: 6.0080 - accuracy: 0.0421\n",
            "Epoch 5/100\n",
            "484/484 [==============================] - 5s 11ms/step - loss: 5.7581 - accuracy: 0.0503\n",
            "Epoch 6/100\n",
            "484/484 [==============================] - 5s 11ms/step - loss: 5.5101 - accuracy: 0.0627\n",
            "Epoch 7/100\n",
            "484/484 [==============================] - 6s 11ms/step - loss: 5.2798 - accuracy: 0.0697\n",
            "Epoch 8/100\n",
            "484/484 [==============================] - 6s 12ms/step - loss: 5.0439 - accuracy: 0.0819\n",
            "Epoch 9/100\n",
            "484/484 [==============================] - 6s 12ms/step - loss: 4.8212 - accuracy: 0.0943\n",
            "Epoch 10/100\n",
            "484/484 [==============================] - 6s 12ms/step - loss: 4.5779 - accuracy: 0.1105\n",
            "Epoch 11/100\n",
            "484/484 [==============================] - 6s 12ms/step - loss: 4.3140 - accuracy: 0.1325\n",
            "Epoch 12/100\n",
            "484/484 [==============================] - 6s 11ms/step - loss: 4.0462 - accuracy: 0.1572\n",
            "Epoch 13/100\n",
            "484/484 [==============================] - 6s 11ms/step - loss: 3.7636 - accuracy: 0.1901\n",
            "Epoch 14/100\n",
            "484/484 [==============================] - 6s 12ms/step - loss: 3.4686 - accuracy: 0.2325\n",
            "Epoch 15/100\n",
            "484/484 [==============================] - 6s 12ms/step - loss: 3.1942 - accuracy: 0.2805\n",
            "Epoch 16/100\n",
            "484/484 [==============================] - 6s 12ms/step - loss: 2.9343 - accuracy: 0.3298\n",
            "Epoch 17/100\n",
            "484/484 [==============================] - 6s 11ms/step - loss: 2.7029 - accuracy: 0.3698\n",
            "Epoch 18/100\n",
            "484/484 [==============================] - 5s 11ms/step - loss: 2.4776 - accuracy: 0.4201\n",
            "Epoch 19/100\n",
            "484/484 [==============================] - 5s 11ms/step - loss: 2.2882 - accuracy: 0.4556\n",
            "Epoch 20/100\n",
            "484/484 [==============================] - 5s 11ms/step - loss: 2.1095 - accuracy: 0.4966\n",
            "Epoch 21/100\n",
            "484/484 [==============================] - 5s 11ms/step - loss: 1.9477 - accuracy: 0.5298\n",
            "Epoch 22/100\n",
            "484/484 [==============================] - 5s 11ms/step - loss: 1.8019 - accuracy: 0.5609\n",
            "Epoch 23/100\n",
            "484/484 [==============================] - 5s 11ms/step - loss: 1.6682 - accuracy: 0.5912\n",
            "Epoch 24/100\n",
            "484/484 [==============================] - 5s 11ms/step - loss: 1.5597 - accuracy: 0.6162\n",
            "Epoch 25/100\n",
            "484/484 [==============================] - 5s 11ms/step - loss: 1.4625 - accuracy: 0.6372\n",
            "Epoch 26/100\n",
            "484/484 [==============================] - 5s 11ms/step - loss: 1.3591 - accuracy: 0.6605\n",
            "Epoch 27/100\n",
            "484/484 [==============================] - 6s 11ms/step - loss: 1.2758 - accuracy: 0.6795\n",
            "Epoch 28/100\n",
            "484/484 [==============================] - 6s 11ms/step - loss: 1.2078 - accuracy: 0.6975\n",
            "Epoch 29/100\n",
            "484/484 [==============================] - 5s 11ms/step - loss: 1.1407 - accuracy: 0.7148\n",
            "Epoch 30/100\n",
            "484/484 [==============================] - 5s 11ms/step - loss: 1.0766 - accuracy: 0.7300\n",
            "Epoch 31/100\n",
            "484/484 [==============================] - 5s 11ms/step - loss: 1.0385 - accuracy: 0.7390\n",
            "Epoch 32/100\n",
            "484/484 [==============================] - 5s 11ms/step - loss: 1.0094 - accuracy: 0.7420\n",
            "Epoch 33/100\n",
            "484/484 [==============================] - 6s 12ms/step - loss: 0.9544 - accuracy: 0.7553\n",
            "Epoch 34/100\n",
            "484/484 [==============================] - 5s 11ms/step - loss: 0.9126 - accuracy: 0.7636\n",
            "Epoch 35/100\n",
            "484/484 [==============================] - 5s 11ms/step - loss: 0.8869 - accuracy: 0.7703\n",
            "Epoch 36/100\n",
            "484/484 [==============================] - 5s 11ms/step - loss: 0.8587 - accuracy: 0.7740\n",
            "Epoch 37/100\n",
            "484/484 [==============================] - 6s 11ms/step - loss: 0.8385 - accuracy: 0.7793\n",
            "Epoch 38/100\n",
            "484/484 [==============================] - 5s 11ms/step - loss: 0.8004 - accuracy: 0.7895\n",
            "Epoch 39/100\n",
            "484/484 [==============================] - 5s 11ms/step - loss: 0.7783 - accuracy: 0.7976\n",
            "Epoch 40/100\n",
            "484/484 [==============================] - 5s 11ms/step - loss: 0.7537 - accuracy: 0.8018\n",
            "Epoch 41/100\n",
            "484/484 [==============================] - 5s 11ms/step - loss: 0.7600 - accuracy: 0.7987\n",
            "Epoch 42/100\n",
            "484/484 [==============================] - 5s 11ms/step - loss: 0.7397 - accuracy: 0.8027\n",
            "Epoch 43/100\n",
            "484/484 [==============================] - 5s 11ms/step - loss: 0.7139 - accuracy: 0.8077\n",
            "Epoch 44/100\n",
            "484/484 [==============================] - 5s 11ms/step - loss: 0.7068 - accuracy: 0.8095\n",
            "Epoch 45/100\n",
            "484/484 [==============================] - 6s 11ms/step - loss: 0.6977 - accuracy: 0.8122\n",
            "Epoch 46/100\n",
            "484/484 [==============================] - 5s 11ms/step - loss: 0.6977 - accuracy: 0.8111\n",
            "Epoch 47/100\n",
            "484/484 [==============================] - 5s 11ms/step - loss: 0.6894 - accuracy: 0.8109\n",
            "Epoch 48/100\n",
            "484/484 [==============================] - 5s 11ms/step - loss: 0.6589 - accuracy: 0.8217\n",
            "Epoch 49/100\n",
            "484/484 [==============================] - 5s 11ms/step - loss: 0.6387 - accuracy: 0.8254\n",
            "Epoch 50/100\n",
            "484/484 [==============================] - 5s 11ms/step - loss: 0.6491 - accuracy: 0.8234\n",
            "Epoch 51/100\n",
            "484/484 [==============================] - 5s 11ms/step - loss: 0.6452 - accuracy: 0.8245\n",
            "Epoch 52/100\n",
            "484/484 [==============================] - 6s 11ms/step - loss: 0.6542 - accuracy: 0.8183\n",
            "Epoch 53/100\n",
            "484/484 [==============================] - 5s 11ms/step - loss: 0.6498 - accuracy: 0.8201\n",
            "Epoch 54/100\n",
            "484/484 [==============================] - 5s 11ms/step - loss: 0.6257 - accuracy: 0.8264\n",
            "Epoch 55/100\n",
            "484/484 [==============================] - 5s 11ms/step - loss: 0.6156 - accuracy: 0.8278\n",
            "Epoch 56/100\n",
            "484/484 [==============================] - 5s 11ms/step - loss: 0.6131 - accuracy: 0.8308\n",
            "Epoch 57/100\n",
            "484/484 [==============================] - 5s 11ms/step - loss: 0.6138 - accuracy: 0.8276\n",
            "Epoch 58/100\n",
            "484/484 [==============================] - 5s 11ms/step - loss: 0.6007 - accuracy: 0.8313\n",
            "Epoch 59/100\n",
            "484/484 [==============================] - 5s 11ms/step - loss: 0.5988 - accuracy: 0.8324\n",
            "Epoch 60/100\n",
            "484/484 [==============================] - 5s 11ms/step - loss: 0.5931 - accuracy: 0.8335\n",
            "Epoch 61/100\n",
            "484/484 [==============================] - 5s 11ms/step - loss: 0.5967 - accuracy: 0.8313\n",
            "Epoch 62/100\n",
            "484/484 [==============================] - 5s 11ms/step - loss: 0.5975 - accuracy: 0.8315\n",
            "Epoch 63/100\n",
            "484/484 [==============================] - 5s 11ms/step - loss: 0.5944 - accuracy: 0.8320\n",
            "Epoch 64/100\n",
            "484/484 [==============================] - 5s 11ms/step - loss: 0.5911 - accuracy: 0.8313\n",
            "Epoch 65/100\n",
            "484/484 [==============================] - 5s 11ms/step - loss: 0.5750 - accuracy: 0.8354\n",
            "Epoch 66/100\n",
            "484/484 [==============================] - 5s 11ms/step - loss: 0.5640 - accuracy: 0.8404\n",
            "Epoch 67/100\n",
            "484/484 [==============================] - 5s 11ms/step - loss: 0.5673 - accuracy: 0.8370\n",
            "Epoch 68/100\n",
            "484/484 [==============================] - 5s 11ms/step - loss: 0.5816 - accuracy: 0.8330\n",
            "Epoch 69/100\n",
            "484/484 [==============================] - 5s 11ms/step - loss: 0.5712 - accuracy: 0.8360\n",
            "Epoch 70/100\n",
            "484/484 [==============================] - 5s 11ms/step - loss: 0.5835 - accuracy: 0.8313\n",
            "Epoch 71/100\n",
            "484/484 [==============================] - 5s 11ms/step - loss: 0.5788 - accuracy: 0.8322\n",
            "Epoch 72/100\n",
            "484/484 [==============================] - 5s 11ms/step - loss: 0.5695 - accuracy: 0.8346\n",
            "Epoch 73/100\n",
            "484/484 [==============================] - 5s 11ms/step - loss: 0.5585 - accuracy: 0.8368\n",
            "Epoch 74/100\n",
            "484/484 [==============================] - 5s 11ms/step - loss: 0.5580 - accuracy: 0.8375\n",
            "Epoch 75/100\n",
            "484/484 [==============================] - 5s 11ms/step - loss: 0.5475 - accuracy: 0.8412\n",
            "Epoch 76/100\n",
            "484/484 [==============================] - 5s 11ms/step - loss: 0.5605 - accuracy: 0.8364\n",
            "Epoch 77/100\n",
            "484/484 [==============================] - 5s 11ms/step - loss: 0.5708 - accuracy: 0.8339\n",
            "Epoch 78/100\n",
            "484/484 [==============================] - 5s 11ms/step - loss: 0.5618 - accuracy: 0.8350\n",
            "Epoch 79/100\n",
            "484/484 [==============================] - 5s 11ms/step - loss: 0.5502 - accuracy: 0.8386\n",
            "Epoch 80/100\n",
            "484/484 [==============================] - 5s 11ms/step - loss: 0.5540 - accuracy: 0.8386\n",
            "Epoch 81/100\n",
            "484/484 [==============================] - 5s 11ms/step - loss: 0.5586 - accuracy: 0.8379\n",
            "Epoch 82/100\n",
            "484/484 [==============================] - 6s 11ms/step - loss: 0.5476 - accuracy: 0.8384\n",
            "Epoch 83/100\n",
            "484/484 [==============================] - 5s 11ms/step - loss: 0.5487 - accuracy: 0.8401\n",
            "Epoch 84/100\n",
            "484/484 [==============================] - 5s 11ms/step - loss: 0.5474 - accuracy: 0.8375\n",
            "Epoch 85/100\n",
            "484/484 [==============================] - 5s 11ms/step - loss: 0.5541 - accuracy: 0.8369\n",
            "Epoch 86/100\n",
            "484/484 [==============================] - 5s 11ms/step - loss: 0.5361 - accuracy: 0.8414\n",
            "Epoch 87/100\n",
            "484/484 [==============================] - 5s 11ms/step - loss: 0.5254 - accuracy: 0.8441\n",
            "Epoch 88/100\n",
            "484/484 [==============================] - 6s 12ms/step - loss: 0.5359 - accuracy: 0.8415\n",
            "Epoch 89/100\n",
            "484/484 [==============================] - 5s 11ms/step - loss: 0.5513 - accuracy: 0.8382\n",
            "Epoch 90/100\n",
            "484/484 [==============================] - 5s 11ms/step - loss: 0.5464 - accuracy: 0.8379\n",
            "Epoch 91/100\n",
            "484/484 [==============================] - 5s 11ms/step - loss: 0.5335 - accuracy: 0.8419\n",
            "Epoch 92/100\n",
            "484/484 [==============================] - 5s 11ms/step - loss: 0.5249 - accuracy: 0.8452\n",
            "Epoch 93/100\n",
            "484/484 [==============================] - 5s 11ms/step - loss: 0.5406 - accuracy: 0.8377\n",
            "Epoch 94/100\n",
            "484/484 [==============================] - 6s 11ms/step - loss: 0.5353 - accuracy: 0.8414\n",
            "Epoch 95/100\n",
            "484/484 [==============================] - 5s 11ms/step - loss: 0.5411 - accuracy: 0.8371\n",
            "Epoch 96/100\n",
            "484/484 [==============================] - 5s 11ms/step - loss: 0.5438 - accuracy: 0.8388\n",
            "Epoch 97/100\n",
            "484/484 [==============================] - 5s 11ms/step - loss: 0.5282 - accuracy: 0.8432\n",
            "Epoch 98/100\n",
            "484/484 [==============================] - 5s 11ms/step - loss: 0.5315 - accuracy: 0.8414\n",
            "Epoch 99/100\n",
            "484/484 [==============================] - 5s 11ms/step - loss: 0.5361 - accuracy: 0.8410\n",
            "Epoch 100/100\n",
            "484/484 [==============================] - 6s 11ms/step - loss: 0.5271 - accuracy: 0.8441\n"
          ],
          "name": "stdout"
        }
      ]
    },
    {
      "cell_type": "code",
      "metadata": {
        "colab": {
          "base_uri": "https://localhost:8080/",
          "height": 545
        },
        "id": "1fXTEO3GJ282",
        "outputId": "f18bf358-395b-437c-a8f0-561bee1ae05b"
      },
      "source": [
        "import matplotlib.pyplot as plt\n",
        "acc = history.history['accuracy']\n",
        "loss = history.history['loss']\n",
        "\n",
        "epochs = range(len(acc))\n",
        "\n",
        "plt.plot(epochs, acc, 'b', label='Training accuracy')\n",
        "plt.title('Training accuracy')\n",
        "\n",
        "plt.figure()\n",
        "\n",
        "plt.plot(epochs, loss, 'b', label='Training Loss')\n",
        "plt.title('Training loss')\n",
        "plt.legend()\n",
        "\n",
        "plt.show()"
      ],
      "execution_count": 10,
      "outputs": [
        {
          "output_type": "display_data",
          "data": {
            "image/png": "[encoded data removed]",
            "text/plain": [
              "<Figure size 432x288 with 1 Axes>"
            ]
          },
          "metadata": {
            "tags": [],
            "needs_background": "light"
          }
        },
        {
          "output_type": "display_data",
          "data": {
            "image/png": "[encoded data removed]",
            "text/plain": [
              "<Figure size 432x288 with 1 Axes>"
            ]
          },
          "metadata": {
            "tags": [],
            "needs_background": "light"
          }
        }
      ]
    },
    {
      "cell_type": "code",
      "metadata": {
        "colab": {
          "base_uri": "https://localhost:8080/"
        },
        "id": "6Vc6PHgxa6Hm",
        "outputId": "75c97802-7380-44fd-dff8-3e516f84c1fa"
      },
      "source": [
        "seed_text = \"Help me Obi Wan Kenobi, you're my only hope\"\n",
        "next_words = 100\n",
        "  \n",
        "for _ in range(next_words):\n",
        "\ttoken_list = tokenizer.texts_to_sequences([seed_text])[0]\n",
        "\ttoken_list = pad_sequences([token_list], maxlen=max_sequence_len-1, padding='pre')\n",
        "\tpredicted = model.predict_classes(token_list, verbose=0)\n",
        "\toutput_word = \"\"\n",
        "\tfor word, index in tokenizer.word_index.items():\n",
        "\t\tif index == predicted:\n",
        "\t\t\toutput_word = word\n",
        "\t\t\tbreak\n",
        "\tseed_text += \" \" + output_word\n",
        "print(seed_text)"
      ],
      "execution_count": 11,
      "outputs": [
        {
          "output_type": "stream",
          "text": [
            "/usr/local/lib/python3.7/dist-packages/tensorflow/python/keras/engine/sequential.py:455: UserWarning: `model.predict_classes()` is deprecated and will be removed after 2021-01-01. Please use instead:* `np.argmax(model.predict(x), axis=-1)`,   if your model does multi-class classification   (e.g. if it uses a `softmax` last-layer activation).* `(model.predict(x) > 0.5).astype(\"int32\")`,   if your model does binary classification   (e.g. if it uses a `sigmoid` last-layer activation).\n",
            "  warnings.warn('`model.predict_classes()` is deprecated and '\n"
          ],
          "name": "stderr"
        },
        {
          "output_type": "stream",
          "text": [
            "Help me Obi Wan Kenobi, you're my only hope in thee releasing repair bright ' ' ' friend for this verse she be in care the sun light days aside cover away all rolling doubt doubt thee behold i live in heart on thee bring forth forth forth me strange slow you remain remain gone back still dearer ' ' ' told i loved the dumb on high to come too near go wide ' heart it lies not knowing thy proud heart wide wide heart torn torn torn days seen heart away with fullness told not joy the best doth viewest must strive to prove thee doubt '\n"
          ],
          "name": "stdout"
        }
      ]
    },
    {
      "cell_type": "code",
      "metadata": {
        "id": "y6N1V2mcN6FU"
      },
      "source": [
        ""
      ],
      "execution_count": null,
      "outputs": []
    }
  ]
}